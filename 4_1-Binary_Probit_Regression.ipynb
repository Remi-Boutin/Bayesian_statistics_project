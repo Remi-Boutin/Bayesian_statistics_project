{
 "cells": [
  {
   "cell_type": "markdown",
   "metadata": {},
   "source": [
    "# Binary Probit Regression"
   ]
  },
  {
   "cell_type": "markdown",
   "metadata": {},
   "source": [
    "#### Import"
   ]
  },
  {
   "cell_type": "code",
   "execution_count": 1,
   "metadata": {},
   "outputs": [],
   "source": [
    "import numpy as np\n",
    "import pandas as pd\n",
    "import matplotlib.pyplot as plt\n",
    "\n",
    "import statsmodels.discrete.discrete_model\n",
    "from scipy.stats import multivariate_normal\n",
    "from scipy.stats import truncnorm\n",
    "from scipy.stats import norm"
   ]
  },
  {
   "cell_type": "markdown",
   "metadata": {},
   "source": [
    "#### Load the data"
   ]
  },
  {
   "cell_type": "code",
   "execution_count": 2,
   "metadata": {},
   "outputs": [],
   "source": [
    "nodal = pd.read_csv(\"nodal.csv\")\n",
    "nodal = nodal.drop(columns={'Unnamed: 0'})"
   ]
  },
  {
   "cell_type": "code",
   "execution_count": 3,
   "metadata": {},
   "outputs": [
    {
     "data": {
      "text/html": [
       "<div>\n",
       "<style scoped>\n",
       "    .dataframe tbody tr th:only-of-type {\n",
       "        vertical-align: middle;\n",
       "    }\n",
       "\n",
       "    .dataframe tbody tr th {\n",
       "        vertical-align: top;\n",
       "    }\n",
       "\n",
       "    .dataframe thead th {\n",
       "        text-align: right;\n",
       "    }\n",
       "</style>\n",
       "<table border=\"1\" class=\"dataframe\">\n",
       "  <thead>\n",
       "    <tr style=\"text-align: right;\">\n",
       "      <th></th>\n",
       "      <th>id</th>\n",
       "      <th>ssln</th>\n",
       "      <th>age</th>\n",
       "      <th>acid</th>\n",
       "      <th>xray</th>\n",
       "      <th>size</th>\n",
       "      <th>grade</th>\n",
       "    </tr>\n",
       "  </thead>\n",
       "  <tbody>\n",
       "    <tr>\n",
       "      <td>0</td>\n",
       "      <td>1</td>\n",
       "      <td>0</td>\n",
       "      <td>66</td>\n",
       "      <td>0.48</td>\n",
       "      <td>0</td>\n",
       "      <td>0</td>\n",
       "      <td>0</td>\n",
       "    </tr>\n",
       "    <tr>\n",
       "      <td>1</td>\n",
       "      <td>2</td>\n",
       "      <td>0</td>\n",
       "      <td>68</td>\n",
       "      <td>0.56</td>\n",
       "      <td>0</td>\n",
       "      <td>0</td>\n",
       "      <td>0</td>\n",
       "    </tr>\n",
       "    <tr>\n",
       "      <td>2</td>\n",
       "      <td>3</td>\n",
       "      <td>0</td>\n",
       "      <td>66</td>\n",
       "      <td>0.50</td>\n",
       "      <td>0</td>\n",
       "      <td>0</td>\n",
       "      <td>0</td>\n",
       "    </tr>\n",
       "    <tr>\n",
       "      <td>3</td>\n",
       "      <td>4</td>\n",
       "      <td>0</td>\n",
       "      <td>56</td>\n",
       "      <td>0.52</td>\n",
       "      <td>0</td>\n",
       "      <td>0</td>\n",
       "      <td>0</td>\n",
       "    </tr>\n",
       "    <tr>\n",
       "      <td>4</td>\n",
       "      <td>5</td>\n",
       "      <td>0</td>\n",
       "      <td>58</td>\n",
       "      <td>0.50</td>\n",
       "      <td>0</td>\n",
       "      <td>0</td>\n",
       "      <td>0</td>\n",
       "    </tr>\n",
       "  </tbody>\n",
       "</table>\n",
       "</div>"
      ],
      "text/plain": [
       "   id  ssln  age  acid  xray  size  grade\n",
       "0   1     0   66  0.48     0     0      0\n",
       "1   2     0   68  0.56     0     0      0\n",
       "2   3     0   66  0.50     0     0      0\n",
       "3   4     0   56  0.52     0     0      0\n",
       "4   5     0   58  0.50     0     0      0"
      ]
     },
     "execution_count": 3,
     "metadata": {},
     "output_type": "execute_result"
    }
   ],
   "source": [
    "nodal.head()"
   ]
  },
  {
   "cell_type": "code",
   "execution_count": 4,
   "metadata": {},
   "outputs": [],
   "source": [
    "y_nodal = nodal.ssln\n",
    "X_nodal = nodal.iloc[:,2:]"
   ]
  },
  {
   "cell_type": "code",
   "execution_count": 5,
   "metadata": {},
   "outputs": [
    {
     "data": {
      "text/html": [
       "<div>\n",
       "<style scoped>\n",
       "    .dataframe tbody tr th:only-of-type {\n",
       "        vertical-align: middle;\n",
       "    }\n",
       "\n",
       "    .dataframe tbody tr th {\n",
       "        vertical-align: top;\n",
       "    }\n",
       "\n",
       "    .dataframe thead th {\n",
       "        text-align: right;\n",
       "    }\n",
       "</style>\n",
       "<table border=\"1\" class=\"dataframe\">\n",
       "  <thead>\n",
       "    <tr style=\"text-align: right;\">\n",
       "      <th></th>\n",
       "      <th>age</th>\n",
       "      <th>acid</th>\n",
       "      <th>xray</th>\n",
       "      <th>size</th>\n",
       "      <th>grade</th>\n",
       "    </tr>\n",
       "  </thead>\n",
       "  <tbody>\n",
       "  </tbody>\n",
       "</table>\n",
       "</div>"
      ],
      "text/plain": [
       "Empty DataFrame\n",
       "Columns: [age, acid, xray, size, grade]\n",
       "Index: []"
      ]
     },
     "execution_count": 5,
     "metadata": {},
     "output_type": "execute_result"
    }
   ],
   "source": [
    "X_nodal.head(0)"
   ]
  },
  {
   "cell_type": "markdown",
   "metadata": {},
   "source": [
    "### Probit models"
   ]
  },
  {
   "cell_type": "markdown",
   "metadata": {},
   "source": [
    "We replicate the nine probit models presented to check that we get the same results as in the paper"
   ]
  },
  {
   "cell_type": "code",
   "execution_count": 6,
   "metadata": {},
   "outputs": [
    {
     "name": "stdout",
     "output_type": "stream",
     "text": [
      "Optimization terminated successfully.\n",
      "         Current function value: 0.662756\n",
      "         Iterations 4\n"
     ]
    },
    {
     "data": {
      "text/html": [
       "<table class=\"simpletable\">\n",
       "<caption>Probit Regression Results</caption>\n",
       "<tr>\n",
       "  <th>Dep. Variable:</th>         <td>ssln</td>       <th>  No. Observations:  </th>  <td>    53</td>  \n",
       "</tr>\n",
       "<tr>\n",
       "  <th>Model:</th>                <td>Probit</td>      <th>  Df Residuals:      </th>  <td>    52</td>  \n",
       "</tr>\n",
       "<tr>\n",
       "  <th>Method:</th>                 <td>MLE</td>       <th>  Df Model:          </th>  <td>     0</td>  \n",
       "</tr>\n",
       "<tr>\n",
       "  <th>Date:</th>            <td>Thu, 23 Jan 2020</td> <th>  Pseudo R-squ.:     </th> <td>6.396e-11</td>\n",
       "</tr>\n",
       "<tr>\n",
       "  <th>Time:</th>                <td>22:10:36</td>     <th>  Log-Likelihood:    </th> <td> -35.126</td> \n",
       "</tr>\n",
       "<tr>\n",
       "  <th>converged:</th>             <td>True</td>       <th>  LL-Null:           </th> <td> -35.126</td> \n",
       "</tr>\n",
       "<tr>\n",
       "  <th>Covariance Type:</th>     <td>nonrobust</td>    <th>  LLR p-value:       </th>  <td>   nan</td>  \n",
       "</tr>\n",
       "</table>\n",
       "<table class=\"simpletable\">\n",
       "<tr>\n",
       "      <td></td>         <th>coef</th>     <th>std err</th>      <th>z</th>      <th>P>|z|</th>  <th>[0.025</th>    <th>0.975]</th>  \n",
       "</tr>\n",
       "<tr>\n",
       "  <th>Intercept</th> <td>   -0.3124</td> <td>    0.175</td> <td>   -1.783</td> <td> 0.075</td> <td>   -0.656</td> <td>    0.031</td>\n",
       "</tr>\n",
       "</table>"
      ],
      "text/plain": [
       "<class 'statsmodels.iolib.summary.Summary'>\n",
       "\"\"\"\n",
       "                          Probit Regression Results                           \n",
       "==============================================================================\n",
       "Dep. Variable:                   ssln   No. Observations:                   53\n",
       "Model:                         Probit   Df Residuals:                       52\n",
       "Method:                           MLE   Df Model:                            0\n",
       "Date:                Thu, 23 Jan 2020   Pseudo R-squ.:               6.396e-11\n",
       "Time:                        22:10:36   Log-Likelihood:                -35.126\n",
       "converged:                       True   LL-Null:                       -35.126\n",
       "Covariance Type:            nonrobust   LLR p-value:                       nan\n",
       "==============================================================================\n",
       "                 coef    std err          z      P>|z|      [0.025      0.975]\n",
       "------------------------------------------------------------------------------\n",
       "Intercept     -0.3124      0.175     -1.783      0.075      -0.656       0.031\n",
       "==============================================================================\n",
       "\"\"\""
      ]
     },
     "execution_count": 6,
     "metadata": {},
     "output_type": "execute_result"
    }
   ],
   "source": [
    "probit1 = statsmodels.discrete.discrete_model.Probit.from_formula('ssln ~ 1', nodal)\n",
    "probit1.fit().summary()"
   ]
  },
  {
   "cell_type": "code",
   "execution_count": 7,
   "metadata": {},
   "outputs": [
    {
     "name": "stdout",
     "output_type": "stream",
     "text": [
      "Optimization terminated successfully.\n",
      "         Current function value: 0.652583\n",
      "         Iterations 4\n"
     ]
    },
    {
     "data": {
      "text/html": [
       "<table class=\"simpletable\">\n",
       "<caption>Probit Regression Results</caption>\n",
       "<tr>\n",
       "  <th>Dep. Variable:</th>         <td>ssln</td>       <th>  No. Observations:  </th>  <td>    53</td> \n",
       "</tr>\n",
       "<tr>\n",
       "  <th>Model:</th>                <td>Probit</td>      <th>  Df Residuals:      </th>  <td>    51</td> \n",
       "</tr>\n",
       "<tr>\n",
       "  <th>Method:</th>                 <td>MLE</td>       <th>  Df Model:          </th>  <td>     1</td> \n",
       "</tr>\n",
       "<tr>\n",
       "  <th>Date:</th>            <td>Thu, 23 Jan 2020</td> <th>  Pseudo R-squ.:     </th>  <td>0.01535</td>\n",
       "</tr>\n",
       "<tr>\n",
       "  <th>Time:</th>                <td>22:10:36</td>     <th>  Log-Likelihood:    </th> <td> -34.587</td>\n",
       "</tr>\n",
       "<tr>\n",
       "  <th>converged:</th>             <td>True</td>       <th>  LL-Null:           </th> <td> -35.126</td>\n",
       "</tr>\n",
       "<tr>\n",
       "  <th>Covariance Type:</th>     <td>nonrobust</td>    <th>  LLR p-value:       </th>  <td>0.2991</td> \n",
       "</tr>\n",
       "</table>\n",
       "<table class=\"simpletable\">\n",
       "<tr>\n",
       "      <td></td>         <th>coef</th>     <th>std err</th>      <th>z</th>      <th>P>|z|</th>  <th>[0.025</th>    <th>0.975]</th>  \n",
       "</tr>\n",
       "<tr>\n",
       "  <th>Intercept</th> <td>    1.4492</td> <td>    1.715</td> <td>    0.845</td> <td> 0.398</td> <td>   -1.911</td> <td>    4.810</td>\n",
       "</tr>\n",
       "<tr>\n",
       "  <th>age</th>       <td>   -0.0297</td> <td>    0.029</td> <td>   -1.032</td> <td> 0.302</td> <td>   -0.086</td> <td>    0.027</td>\n",
       "</tr>\n",
       "</table>"
      ],
      "text/plain": [
       "<class 'statsmodels.iolib.summary.Summary'>\n",
       "\"\"\"\n",
       "                          Probit Regression Results                           \n",
       "==============================================================================\n",
       "Dep. Variable:                   ssln   No. Observations:                   53\n",
       "Model:                         Probit   Df Residuals:                       51\n",
       "Method:                           MLE   Df Model:                            1\n",
       "Date:                Thu, 23 Jan 2020   Pseudo R-squ.:                 0.01535\n",
       "Time:                        22:10:36   Log-Likelihood:                -34.587\n",
       "converged:                       True   LL-Null:                       -35.126\n",
       "Covariance Type:            nonrobust   LLR p-value:                    0.2991\n",
       "==============================================================================\n",
       "                 coef    std err          z      P>|z|      [0.025      0.975]\n",
       "------------------------------------------------------------------------------\n",
       "Intercept      1.4492      1.715      0.845      0.398      -1.911       4.810\n",
       "age           -0.0297      0.029     -1.032      0.302      -0.086       0.027\n",
       "==============================================================================\n",
       "\"\"\""
      ]
     },
     "execution_count": 7,
     "metadata": {},
     "output_type": "execute_result"
    }
   ],
   "source": [
    "probit2 = statsmodels.discrete.discrete_model.Probit.from_formula('ssln ~ 1 + age', nodal)\n",
    "probit2.fit().summary()"
   ]
  },
  {
   "cell_type": "code",
   "execution_count": 8,
   "metadata": {},
   "outputs": [
    {
     "name": "stdout",
     "output_type": "stream",
     "text": [
      "Optimization terminated successfully.\n",
      "         Current function value: 0.611793\n",
      "         Iterations 5\n"
     ]
    },
    {
     "data": {
      "text/html": [
       "<table class=\"simpletable\">\n",
       "<caption>Probit Regression Results</caption>\n",
       "<tr>\n",
       "  <th>Dep. Variable:</th>         <td>ssln</td>       <th>  No. Observations:  </th>  <td>    53</td> \n",
       "</tr>\n",
       "<tr>\n",
       "  <th>Model:</th>                <td>Probit</td>      <th>  Df Residuals:      </th>  <td>    51</td> \n",
       "</tr>\n",
       "<tr>\n",
       "  <th>Method:</th>                 <td>MLE</td>       <th>  Df Model:          </th>  <td>     1</td> \n",
       "</tr>\n",
       "<tr>\n",
       "  <th>Date:</th>            <td>Thu, 23 Jan 2020</td> <th>  Pseudo R-squ.:     </th>  <td>0.07690</td>\n",
       "</tr>\n",
       "<tr>\n",
       "  <th>Time:</th>                <td>22:10:36</td>     <th>  Log-Likelihood:    </th> <td> -32.425</td>\n",
       "</tr>\n",
       "<tr>\n",
       "  <th>converged:</th>             <td>True</td>       <th>  LL-Null:           </th> <td> -35.126</td>\n",
       "</tr>\n",
       "<tr>\n",
       "  <th>Covariance Type:</th>     <td>nonrobust</td>    <th>  LLR p-value:       </th>  <td>0.02011</td>\n",
       "</tr>\n",
       "</table>\n",
       "<table class=\"simpletable\">\n",
       "<tr>\n",
       "        <td></td>          <th>coef</th>     <th>std err</th>      <th>z</th>      <th>P>|z|</th>  <th>[0.025</th>    <th>0.975]</th>  \n",
       "</tr>\n",
       "<tr>\n",
       "  <th>Intercept</th>    <td>    0.2143</td> <td>    0.288</td> <td>    0.744</td> <td> 0.457</td> <td>   -0.350</td> <td>    0.779</td>\n",
       "</tr>\n",
       "<tr>\n",
       "  <th>np.log(acid)</th> <td>    1.3250</td> <td>    0.578</td> <td>    2.294</td> <td> 0.022</td> <td>    0.193</td> <td>    2.457</td>\n",
       "</tr>\n",
       "</table>"
      ],
      "text/plain": [
       "<class 'statsmodels.iolib.summary.Summary'>\n",
       "\"\"\"\n",
       "                          Probit Regression Results                           \n",
       "==============================================================================\n",
       "Dep. Variable:                   ssln   No. Observations:                   53\n",
       "Model:                         Probit   Df Residuals:                       51\n",
       "Method:                           MLE   Df Model:                            1\n",
       "Date:                Thu, 23 Jan 2020   Pseudo R-squ.:                 0.07690\n",
       "Time:                        22:10:36   Log-Likelihood:                -32.425\n",
       "converged:                       True   LL-Null:                       -35.126\n",
       "Covariance Type:            nonrobust   LLR p-value:                   0.02011\n",
       "================================================================================\n",
       "                   coef    std err          z      P>|z|      [0.025      0.975]\n",
       "--------------------------------------------------------------------------------\n",
       "Intercept        0.2143      0.288      0.744      0.457      -0.350       0.779\n",
       "np.log(acid)     1.3250      0.578      2.294      0.022       0.193       2.457\n",
       "================================================================================\n",
       "\"\"\""
      ]
     },
     "execution_count": 8,
     "metadata": {},
     "output_type": "execute_result"
    }
   ],
   "source": [
    "probit3 = statsmodels.discrete.discrete_model.Probit.from_formula('ssln ~ 1 + np.log(acid)', nodal)\n",
    "probit3.fit().summary()"
   ]
  },
  {
   "cell_type": "code",
   "execution_count": 9,
   "metadata": {},
   "outputs": [
    {
     "name": "stdout",
     "output_type": "stream",
     "text": [
      "Optimization terminated successfully.\n",
      "         Current function value: 0.556611\n",
      "         Iterations 5\n"
     ]
    },
    {
     "data": {
      "text/html": [
       "<table class=\"simpletable\">\n",
       "<caption>Probit Regression Results</caption>\n",
       "<tr>\n",
       "  <th>Dep. Variable:</th>         <td>ssln</td>       <th>  No. Observations:  </th>  <td>    53</td>  \n",
       "</tr>\n",
       "<tr>\n",
       "  <th>Model:</th>                <td>Probit</td>      <th>  Df Residuals:      </th>  <td>    51</td>  \n",
       "</tr>\n",
       "<tr>\n",
       "  <th>Method:</th>                 <td>MLE</td>       <th>  Df Model:          </th>  <td>     1</td>  \n",
       "</tr>\n",
       "<tr>\n",
       "  <th>Date:</th>            <td>Thu, 23 Jan 2020</td> <th>  Pseudo R-squ.:     </th>  <td>0.1602</td>  \n",
       "</tr>\n",
       "<tr>\n",
       "  <th>Time:</th>                <td>22:10:37</td>     <th>  Log-Likelihood:    </th> <td> -29.500</td> \n",
       "</tr>\n",
       "<tr>\n",
       "  <th>converged:</th>             <td>True</td>       <th>  LL-Null:           </th> <td> -35.126</td> \n",
       "</tr>\n",
       "<tr>\n",
       "  <th>Covariance Type:</th>     <td>nonrobust</td>    <th>  LLR p-value:       </th> <td>0.0007957</td>\n",
       "</tr>\n",
       "</table>\n",
       "<table class=\"simpletable\">\n",
       "<tr>\n",
       "      <td></td>         <th>coef</th>     <th>std err</th>      <th>z</th>      <th>P>|z|</th>  <th>[0.025</th>    <th>0.975]</th>  \n",
       "</tr>\n",
       "<tr>\n",
       "  <th>Intercept</th> <td>   -0.7165</td> <td>    0.223</td> <td>   -3.206</td> <td> 0.001</td> <td>   -1.154</td> <td>   -0.279</td>\n",
       "</tr>\n",
       "<tr>\n",
       "  <th>xray</th>      <td>    1.3394</td> <td>    0.413</td> <td>    3.242</td> <td> 0.001</td> <td>    0.530</td> <td>    2.149</td>\n",
       "</tr>\n",
       "</table>"
      ],
      "text/plain": [
       "<class 'statsmodels.iolib.summary.Summary'>\n",
       "\"\"\"\n",
       "                          Probit Regression Results                           \n",
       "==============================================================================\n",
       "Dep. Variable:                   ssln   No. Observations:                   53\n",
       "Model:                         Probit   Df Residuals:                       51\n",
       "Method:                           MLE   Df Model:                            1\n",
       "Date:                Thu, 23 Jan 2020   Pseudo R-squ.:                  0.1602\n",
       "Time:                        22:10:37   Log-Likelihood:                -29.500\n",
       "converged:                       True   LL-Null:                       -35.126\n",
       "Covariance Type:            nonrobust   LLR p-value:                 0.0007957\n",
       "==============================================================================\n",
       "                 coef    std err          z      P>|z|      [0.025      0.975]\n",
       "------------------------------------------------------------------------------\n",
       "Intercept     -0.7165      0.223     -3.206      0.001      -1.154      -0.279\n",
       "xray           1.3394      0.413      3.242      0.001       0.530       2.149\n",
       "==============================================================================\n",
       "\"\"\""
      ]
     },
     "execution_count": 9,
     "metadata": {},
     "output_type": "execute_result"
    }
   ],
   "source": [
    "probit4 = statsmodels.discrete.discrete_model.Probit.from_formula('ssln ~ 1 + xray', nodal)\n",
    "probit4.fit().summary()"
   ]
  },
  {
   "cell_type": "code",
   "execution_count": 10,
   "metadata": {},
   "outputs": [
    {
     "name": "stdout",
     "output_type": "stream",
     "text": [
      "Optimization terminated successfully.\n",
      "         Current function value: 0.590119\n",
      "         Iterations 5\n"
     ]
    },
    {
     "data": {
      "text/html": [
       "<table class=\"simpletable\">\n",
       "<caption>Probit Regression Results</caption>\n",
       "<tr>\n",
       "  <th>Dep. Variable:</th>         <td>ssln</td>       <th>  No. Observations:  </th>  <td>    53</td> \n",
       "</tr>\n",
       "<tr>\n",
       "  <th>Model:</th>                <td>Probit</td>      <th>  Df Residuals:      </th>  <td>    51</td> \n",
       "</tr>\n",
       "<tr>\n",
       "  <th>Method:</th>                 <td>MLE</td>       <th>  Df Model:          </th>  <td>     1</td> \n",
       "</tr>\n",
       "<tr>\n",
       "  <th>Date:</th>            <td>Thu, 23 Jan 2020</td> <th>  Pseudo R-squ.:     </th>  <td>0.1096</td> \n",
       "</tr>\n",
       "<tr>\n",
       "  <th>Time:</th>                <td>22:10:37</td>     <th>  Log-Likelihood:    </th> <td> -31.276</td>\n",
       "</tr>\n",
       "<tr>\n",
       "  <th>converged:</th>             <td>True</td>       <th>  LL-Null:           </th> <td> -35.126</td>\n",
       "</tr>\n",
       "<tr>\n",
       "  <th>Covariance Type:</th>     <td>nonrobust</td>    <th>  LLR p-value:       </th> <td>0.005524</td>\n",
       "</tr>\n",
       "</table>\n",
       "<table class=\"simpletable\">\n",
       "<tr>\n",
       "      <td></td>         <th>coef</th>     <th>std err</th>      <th>z</th>      <th>P>|z|</th>  <th>[0.025</th>    <th>0.975]</th>  \n",
       "</tr>\n",
       "<tr>\n",
       "  <th>Intercept</th> <td>   -0.8694</td> <td>    0.283</td> <td>   -3.075</td> <td> 0.002</td> <td>   -1.424</td> <td>   -0.315</td>\n",
       "</tr>\n",
       "<tr>\n",
       "  <th>size</th>      <td>    1.0091</td> <td>    0.372</td> <td>    2.711</td> <td> 0.007</td> <td>    0.280</td> <td>    1.739</td>\n",
       "</tr>\n",
       "</table>"
      ],
      "text/plain": [
       "<class 'statsmodels.iolib.summary.Summary'>\n",
       "\"\"\"\n",
       "                          Probit Regression Results                           \n",
       "==============================================================================\n",
       "Dep. Variable:                   ssln   No. Observations:                   53\n",
       "Model:                         Probit   Df Residuals:                       51\n",
       "Method:                           MLE   Df Model:                            1\n",
       "Date:                Thu, 23 Jan 2020   Pseudo R-squ.:                  0.1096\n",
       "Time:                        22:10:37   Log-Likelihood:                -31.276\n",
       "converged:                       True   LL-Null:                       -35.126\n",
       "Covariance Type:            nonrobust   LLR p-value:                  0.005524\n",
       "==============================================================================\n",
       "                 coef    std err          z      P>|z|      [0.025      0.975]\n",
       "------------------------------------------------------------------------------\n",
       "Intercept     -0.8694      0.283     -3.075      0.002      -1.424      -0.315\n",
       "size           1.0091      0.372      2.711      0.007       0.280       1.739\n",
       "==============================================================================\n",
       "\"\"\""
      ]
     },
     "execution_count": 10,
     "metadata": {},
     "output_type": "execute_result"
    }
   ],
   "source": [
    "probit5 = statsmodels.discrete.discrete_model.Probit.from_formula('ssln ~ 1 + size', nodal)\n",
    "probit5.fit().summary()"
   ]
  },
  {
   "cell_type": "code",
   "execution_count": 11,
   "metadata": {},
   "outputs": [
    {
     "name": "stdout",
     "output_type": "stream",
     "text": [
      "Optimization terminated successfully.\n",
      "         Current function value: 0.624513\n",
      "         Iterations 4\n"
     ]
    },
    {
     "data": {
      "text/html": [
       "<table class=\"simpletable\">\n",
       "<caption>Probit Regression Results</caption>\n",
       "<tr>\n",
       "  <th>Dep. Variable:</th>         <td>ssln</td>       <th>  No. Observations:  </th>  <td>    53</td> \n",
       "</tr>\n",
       "<tr>\n",
       "  <th>Model:</th>                <td>Probit</td>      <th>  Df Residuals:      </th>  <td>    51</td> \n",
       "</tr>\n",
       "<tr>\n",
       "  <th>Method:</th>                 <td>MLE</td>       <th>  Df Model:          </th>  <td>     1</td> \n",
       "</tr>\n",
       "<tr>\n",
       "  <th>Date:</th>            <td>Thu, 23 Jan 2020</td> <th>  Pseudo R-squ.:     </th>  <td>0.05770</td>\n",
       "</tr>\n",
       "<tr>\n",
       "  <th>Time:</th>                <td>22:10:37</td>     <th>  Log-Likelihood:    </th> <td> -33.099</td>\n",
       "</tr>\n",
       "<tr>\n",
       "  <th>converged:</th>             <td>True</td>       <th>  LL-Null:           </th> <td> -35.126</td>\n",
       "</tr>\n",
       "<tr>\n",
       "  <th>Covariance Type:</th>     <td>nonrobust</td>    <th>  LLR p-value:       </th>  <td>0.04407</td>\n",
       "</tr>\n",
       "</table>\n",
       "<table class=\"simpletable\">\n",
       "<tr>\n",
       "      <td></td>         <th>coef</th>     <th>std err</th>      <th>z</th>      <th>P>|z|</th>  <th>[0.025</th>    <th>0.975]</th>  \n",
       "</tr>\n",
       "<tr>\n",
       "  <th>Intercept</th> <td>   -0.6046</td> <td>    0.233</td> <td>   -2.591</td> <td> 0.010</td> <td>   -1.062</td> <td>   -0.147</td>\n",
       "</tr>\n",
       "<tr>\n",
       "  <th>grade</th>     <td>    0.7302</td> <td>    0.365</td> <td>    1.999</td> <td> 0.046</td> <td>    0.014</td> <td>    1.446</td>\n",
       "</tr>\n",
       "</table>"
      ],
      "text/plain": [
       "<class 'statsmodels.iolib.summary.Summary'>\n",
       "\"\"\"\n",
       "                          Probit Regression Results                           \n",
       "==============================================================================\n",
       "Dep. Variable:                   ssln   No. Observations:                   53\n",
       "Model:                         Probit   Df Residuals:                       51\n",
       "Method:                           MLE   Df Model:                            1\n",
       "Date:                Thu, 23 Jan 2020   Pseudo R-squ.:                 0.05770\n",
       "Time:                        22:10:37   Log-Likelihood:                -33.099\n",
       "converged:                       True   LL-Null:                       -35.126\n",
       "Covariance Type:            nonrobust   LLR p-value:                   0.04407\n",
       "==============================================================================\n",
       "                 coef    std err          z      P>|z|      [0.025      0.975]\n",
       "------------------------------------------------------------------------------\n",
       "Intercept     -0.6046      0.233     -2.591      0.010      -1.062      -0.147\n",
       "grade          0.7302      0.365      1.999      0.046       0.014       1.446\n",
       "==============================================================================\n",
       "\"\"\""
      ]
     },
     "execution_count": 11,
     "metadata": {},
     "output_type": "execute_result"
    }
   ],
   "source": [
    "probit6 = statsmodels.discrete.discrete_model.Probit.from_formula('ssln ~ 1 + grade', nodal)\n",
    "probit6.fit().summary()"
   ]
  },
  {
   "cell_type": "code",
   "execution_count": 12,
   "metadata": {},
   "outputs": [
    {
     "name": "stdout",
     "output_type": "stream",
     "text": [
      "Optimization terminated successfully.\n",
      "         Current function value: 0.531703\n",
      "         Iterations 5\n"
     ]
    },
    {
     "data": {
      "text/html": [
       "<table class=\"simpletable\">\n",
       "<caption>Probit Regression Results</caption>\n",
       "<tr>\n",
       "  <th>Dep. Variable:</th>         <td>ssln</td>       <th>  No. Observations:  </th>  <td>    53</td>  \n",
       "</tr>\n",
       "<tr>\n",
       "  <th>Model:</th>                <td>Probit</td>      <th>  Df Residuals:      </th>  <td>    50</td>  \n",
       "</tr>\n",
       "<tr>\n",
       "  <th>Method:</th>                 <td>MLE</td>       <th>  Df Model:          </th>  <td>     2</td>  \n",
       "</tr>\n",
       "<tr>\n",
       "  <th>Date:</th>            <td>Thu, 23 Jan 2020</td> <th>  Pseudo R-squ.:     </th>  <td>0.1977</td>  \n",
       "</tr>\n",
       "<tr>\n",
       "  <th>Time:</th>                <td>22:10:37</td>     <th>  Log-Likelihood:    </th> <td> -28.180</td> \n",
       "</tr>\n",
       "<tr>\n",
       "  <th>converged:</th>             <td>True</td>       <th>  LL-Null:           </th> <td> -35.126</td> \n",
       "</tr>\n",
       "<tr>\n",
       "  <th>Covariance Type:</th>     <td>nonrobust</td>    <th>  LLR p-value:       </th> <td>0.0009626</td>\n",
       "</tr>\n",
       "</table>\n",
       "<table class=\"simpletable\">\n",
       "<tr>\n",
       "        <td></td>          <th>coef</th>     <th>std err</th>      <th>z</th>      <th>P>|z|</th>  <th>[0.025</th>    <th>0.975]</th>  \n",
       "</tr>\n",
       "<tr>\n",
       "  <th>Intercept</th>    <td>   -0.3515</td> <td>    0.356</td> <td>   -0.987</td> <td> 0.324</td> <td>   -1.050</td> <td>    0.347</td>\n",
       "</tr>\n",
       "<tr>\n",
       "  <th>np.log(acid)</th> <td>    1.4855</td> <td>    0.607</td> <td>    2.445</td> <td> 0.014</td> <td>    0.295</td> <td>    2.676</td>\n",
       "</tr>\n",
       "<tr>\n",
       "  <th>size</th>         <td>    1.1153</td> <td>    0.397</td> <td>    2.806</td> <td> 0.005</td> <td>    0.336</td> <td>    1.894</td>\n",
       "</tr>\n",
       "</table>"
      ],
      "text/plain": [
       "<class 'statsmodels.iolib.summary.Summary'>\n",
       "\"\"\"\n",
       "                          Probit Regression Results                           \n",
       "==============================================================================\n",
       "Dep. Variable:                   ssln   No. Observations:                   53\n",
       "Model:                         Probit   Df Residuals:                       50\n",
       "Method:                           MLE   Df Model:                            2\n",
       "Date:                Thu, 23 Jan 2020   Pseudo R-squ.:                  0.1977\n",
       "Time:                        22:10:37   Log-Likelihood:                -28.180\n",
       "converged:                       True   LL-Null:                       -35.126\n",
       "Covariance Type:            nonrobust   LLR p-value:                 0.0009626\n",
       "================================================================================\n",
       "                   coef    std err          z      P>|z|      [0.025      0.975]\n",
       "--------------------------------------------------------------------------------\n",
       "Intercept       -0.3515      0.356     -0.987      0.324      -1.050       0.347\n",
       "np.log(acid)     1.4855      0.607      2.445      0.014       0.295       2.676\n",
       "size             1.1153      0.397      2.806      0.005       0.336       1.894\n",
       "================================================================================\n",
       "\"\"\""
      ]
     },
     "execution_count": 12,
     "metadata": {},
     "output_type": "execute_result"
    }
   ],
   "source": [
    "probit7 = statsmodels.discrete.discrete_model.Probit.from_formula('ssln ~ 1 + np.log(acid) + size', nodal)\n",
    "probit7.fit().summary()"
   ]
  },
  {
   "cell_type": "code",
   "execution_count": 13,
   "metadata": {},
   "outputs": [
    {
     "name": "stdout",
     "output_type": "stream",
     "text": [
      "Optimization terminated successfully.\n",
      "         Current function value: 0.460770\n",
      "         Iterations 6\n"
     ]
    },
    {
     "data": {
      "text/html": [
       "<table class=\"simpletable\">\n",
       "<caption>Probit Regression Results</caption>\n",
       "<tr>\n",
       "  <th>Dep. Variable:</th>         <td>ssln</td>       <th>  No. Observations:  </th>  <td>    53</td>  \n",
       "</tr>\n",
       "<tr>\n",
       "  <th>Model:</th>                <td>Probit</td>      <th>  Df Residuals:      </th>  <td>    49</td>  \n",
       "</tr>\n",
       "<tr>\n",
       "  <th>Method:</th>                 <td>MLE</td>       <th>  Df Model:          </th>  <td>     3</td>  \n",
       "</tr>\n",
       "<tr>\n",
       "  <th>Date:</th>            <td>Thu, 23 Jan 2020</td> <th>  Pseudo R-squ.:     </th>  <td>0.3048</td>  \n",
       "</tr>\n",
       "<tr>\n",
       "  <th>Time:</th>                <td>22:10:37</td>     <th>  Log-Likelihood:    </th> <td> -24.421</td> \n",
       "</tr>\n",
       "<tr>\n",
       "  <th>converged:</th>             <td>True</td>       <th>  LL-Null:           </th> <td> -35.126</td> \n",
       "</tr>\n",
       "<tr>\n",
       "  <th>Covariance Type:</th>     <td>nonrobust</td>    <th>  LLR p-value:       </th> <td>8.651e-05</td>\n",
       "</tr>\n",
       "</table>\n",
       "<table class=\"simpletable\">\n",
       "<tr>\n",
       "        <td></td>          <th>coef</th>     <th>std err</th>      <th>z</th>      <th>P>|z|</th>  <th>[0.025</th>    <th>0.975]</th>  \n",
       "</tr>\n",
       "<tr>\n",
       "  <th>Intercept</th>    <td>   -0.6692</td> <td>    0.400</td> <td>   -1.675</td> <td> 0.094</td> <td>   -1.452</td> <td>    0.114</td>\n",
       "</tr>\n",
       "<tr>\n",
       "  <th>np.log(acid)</th> <td>    1.4033</td> <td>    0.664</td> <td>    2.113</td> <td> 0.035</td> <td>    0.102</td> <td>    2.705</td>\n",
       "</tr>\n",
       "<tr>\n",
       "  <th>xray</th>         <td>    1.2283</td> <td>    0.463</td> <td>    2.652</td> <td> 0.008</td> <td>    0.320</td> <td>    2.136</td>\n",
       "</tr>\n",
       "<tr>\n",
       "  <th>size</th>         <td>    1.0135</td> <td>    0.420</td> <td>    2.414</td> <td> 0.016</td> <td>    0.191</td> <td>    1.836</td>\n",
       "</tr>\n",
       "</table>"
      ],
      "text/plain": [
       "<class 'statsmodels.iolib.summary.Summary'>\n",
       "\"\"\"\n",
       "                          Probit Regression Results                           \n",
       "==============================================================================\n",
       "Dep. Variable:                   ssln   No. Observations:                   53\n",
       "Model:                         Probit   Df Residuals:                       49\n",
       "Method:                           MLE   Df Model:                            3\n",
       "Date:                Thu, 23 Jan 2020   Pseudo R-squ.:                  0.3048\n",
       "Time:                        22:10:37   Log-Likelihood:                -24.421\n",
       "converged:                       True   LL-Null:                       -35.126\n",
       "Covariance Type:            nonrobust   LLR p-value:                 8.651e-05\n",
       "================================================================================\n",
       "                   coef    std err          z      P>|z|      [0.025      0.975]\n",
       "--------------------------------------------------------------------------------\n",
       "Intercept       -0.6692      0.400     -1.675      0.094      -1.452       0.114\n",
       "np.log(acid)     1.4033      0.664      2.113      0.035       0.102       2.705\n",
       "xray             1.2283      0.463      2.652      0.008       0.320       2.136\n",
       "size             1.0135      0.420      2.414      0.016       0.191       1.836\n",
       "================================================================================\n",
       "\"\"\""
      ]
     },
     "execution_count": 13,
     "metadata": {},
     "output_type": "execute_result"
    }
   ],
   "source": [
    "probit8 = statsmodels.discrete.discrete_model.Probit.from_formula('ssln ~ 1 + np.log(acid) + xray + size', nodal)\n",
    "probit8.fit().summary()"
   ]
  },
  {
   "cell_type": "code",
   "execution_count": 14,
   "metadata": {},
   "outputs": [
    {
     "name": "stdout",
     "output_type": "stream",
     "text": [
      "Optimization terminated successfully.\n",
      "         Current function value: 0.448339\n",
      "         Iterations 6\n"
     ]
    },
    {
     "data": {
      "text/html": [
       "<table class=\"simpletable\">\n",
       "<caption>Probit Regression Results</caption>\n",
       "<tr>\n",
       "  <th>Dep. Variable:</th>         <td>ssln</td>       <th>  No. Observations:  </th>  <td>    53</td>  \n",
       "</tr>\n",
       "<tr>\n",
       "  <th>Model:</th>                <td>Probit</td>      <th>  Df Residuals:      </th>  <td>    48</td>  \n",
       "</tr>\n",
       "<tr>\n",
       "  <th>Method:</th>                 <td>MLE</td>       <th>  Df Model:          </th>  <td>     4</td>  \n",
       "</tr>\n",
       "<tr>\n",
       "  <th>Date:</th>            <td>Thu, 23 Jan 2020</td> <th>  Pseudo R-squ.:     </th>  <td>0.3235</td>  \n",
       "</tr>\n",
       "<tr>\n",
       "  <th>Time:</th>                <td>22:10:37</td>     <th>  Log-Likelihood:    </th> <td> -23.762</td> \n",
       "</tr>\n",
       "<tr>\n",
       "  <th>converged:</th>             <td>True</td>       <th>  LL-Null:           </th> <td> -35.126</td> \n",
       "</tr>\n",
       "<tr>\n",
       "  <th>Covariance Type:</th>     <td>nonrobust</td>    <th>  LLR p-value:       </th> <td>0.0001435</td>\n",
       "</tr>\n",
       "</table>\n",
       "<table class=\"simpletable\">\n",
       "<tr>\n",
       "        <td></td>          <th>coef</th>     <th>std err</th>      <th>z</th>      <th>P>|z|</th>  <th>[0.025</th>    <th>0.975]</th>  \n",
       "</tr>\n",
       "<tr>\n",
       "  <th>Intercept</th>    <td>   -0.7480</td> <td>    0.413</td> <td>   -1.812</td> <td> 0.070</td> <td>   -1.557</td> <td>    0.061</td>\n",
       "</tr>\n",
       "<tr>\n",
       "  <th>np.log(acid)</th> <td>    1.5329</td> <td>    0.687</td> <td>    2.230</td> <td> 0.026</td> <td>    0.186</td> <td>    2.880</td>\n",
       "</tr>\n",
       "<tr>\n",
       "  <th>xray</th>         <td>    1.1762</td> <td>    0.474</td> <td>    2.480</td> <td> 0.013</td> <td>    0.247</td> <td>    2.106</td>\n",
       "</tr>\n",
       "<tr>\n",
       "  <th>size</th>         <td>    0.9070</td> <td>    0.438</td> <td>    2.069</td> <td> 0.039</td> <td>    0.048</td> <td>    1.766</td>\n",
       "</tr>\n",
       "<tr>\n",
       "  <th>grade</th>        <td>    0.5079</td> <td>    0.444</td> <td>    1.143</td> <td> 0.253</td> <td>   -0.363</td> <td>    1.379</td>\n",
       "</tr>\n",
       "</table>"
      ],
      "text/plain": [
       "<class 'statsmodels.iolib.summary.Summary'>\n",
       "\"\"\"\n",
       "                          Probit Regression Results                           \n",
       "==============================================================================\n",
       "Dep. Variable:                   ssln   No. Observations:                   53\n",
       "Model:                         Probit   Df Residuals:                       48\n",
       "Method:                           MLE   Df Model:                            4\n",
       "Date:                Thu, 23 Jan 2020   Pseudo R-squ.:                  0.3235\n",
       "Time:                        22:10:37   Log-Likelihood:                -23.762\n",
       "converged:                       True   LL-Null:                       -35.126\n",
       "Covariance Type:            nonrobust   LLR p-value:                 0.0001435\n",
       "================================================================================\n",
       "                   coef    std err          z      P>|z|      [0.025      0.975]\n",
       "--------------------------------------------------------------------------------\n",
       "Intercept       -0.7480      0.413     -1.812      0.070      -1.557       0.061\n",
       "np.log(acid)     1.5329      0.687      2.230      0.026       0.186       2.880\n",
       "xray             1.1762      0.474      2.480      0.013       0.247       2.106\n",
       "size             0.9070      0.438      2.069      0.039       0.048       1.766\n",
       "grade            0.5079      0.444      1.143      0.253      -0.363       1.379\n",
       "================================================================================\n",
       "\"\"\""
      ]
     },
     "execution_count": 14,
     "metadata": {},
     "output_type": "execute_result"
    }
   ],
   "source": [
    "probit9 = statsmodels.discrete.discrete_model.Probit.from_formula('ssln ~ 1 + np.log(acid) + xray + size + grade', nodal)\n",
    "probit9.fit().summary()"
   ]
  },
  {
   "cell_type": "markdown",
   "metadata": {},
   "source": [
    "In each table, we can compare the Log-Likelihood obtained with the one in Table 2 of the article __Marginal Likelihood From the Gibbs Output (1995), Siddhartha Chib__."
   ]
  },
  {
   "cell_type": "markdown",
   "metadata": {},
   "source": [
    "### Gibbs sampler"
   ]
  },
  {
   "cell_type": "markdown",
   "metadata": {},
   "source": [
    "Definition of the complete conditional densities"
   ]
  },
  {
   "cell_type": "markdown",
   "metadata": {},
   "source": [
    "__Conditional density of $\\beta$__"
   ]
  },
  {
   "cell_type": "code",
   "execution_count": 15,
   "metadata": {},
   "outputs": [],
   "source": [
    "def post_beta(z):\n",
    "    # Input : z is the latent variable vector -> shape n*1\n",
    "    \n",
    "    # Output : beta vector of shape p*1 AND Bz_hat of shape p*1\n",
    "    \n",
    "    # A is the inverse of the covariance matrix of beta -> shape p*p\n",
    "    # a is the mean vector of beta -> shape p*1\n",
    "    # X is the covariate vector -> shape n*p\n",
    "    \n",
    "    B = np.linalg.inv(A + X.T@X) # shape p*p # Better to define as global variable \n",
    "    Bz_hat = B@(A@a + X.T@z) # shape p*1\n",
    "    return np.random.multivariate_normal(Bz_hat, B), Bz_hat"
   ]
  },
  {
   "cell_type": "markdown",
   "metadata": {},
   "source": [
    "__Conditional density of $z$__"
   ]
  },
  {
   "cell_type": "code",
   "execution_count": 16,
   "metadata": {},
   "outputs": [],
   "source": [
    "def post_z(beta):\n",
    "    # Input : beta vector of parameters -> shape p*1\n",
    "    # Output : z vector of latent variables -> shape n*1\n",
    "    \n",
    "    # y vector of target value -> shape n*1\n",
    "    # xi vector of covariates for individu i -> shape 1*p\n",
    "    \n",
    "    z = []\n",
    "    for i in range(n):\n",
    "        xi = X[i,:]\n",
    "        mean, std = xi@beta, 1 #mean is a scalar\n",
    "        if y[i] == 1:\n",
    "            a0, b0 = 0, 100000\n",
    "            a, b = (a0 - mean) / std, (b0 - mean) / std\n",
    "            zi = truncnorm.rvs(a, b, loc=mean, scale=std)\n",
    "            if zi == np.inf: # if the distribution is too much concentrated around 0, value is set to 0. \n",
    "                zi = 0\n",
    "            z.append(zi)\n",
    "        elif y[i] == 0:\n",
    "            a0, b0 = -100000, 0\n",
    "            a, b = (a0 - mean) / std, (b0 - mean) / std\n",
    "            zi = truncnorm.rvs(a, b, loc=mean, scale=std)\n",
    "            if zi == -np.inf: # if the distribution is too much concentrated around 0, value is set to 0 as previously.\n",
    "                zi = 0\n",
    "            z.append(zi)\n",
    "\n",
    "    return np.array(z) # a vector of zi"
   ]
  },
  {
   "cell_type": "markdown",
   "metadata": {},
   "source": [
    "To visualize the **truncated normal distribution** (with mean = 1 and variance = 1) in the case $y_i = 1$ with the density function (in red) and the histogram of 10,000 random draws (in blue). In yellow, we can compare with the normal distribution with same mean and variance but not truncated."
   ]
  },
  {
   "cell_type": "code",
   "execution_count": 17,
   "metadata": {},
   "outputs": [
    {
     "data": {
      "image/png": "[encoded data removed]",
      "text/plain": [
       "<Figure size 432x288 with 1 Axes>"
      ]
     },
     "metadata": {
      "needs_background": "light"
     },
     "output_type": "display_data"
    }
   ],
   "source": [
    "xx = np.linspace(-9,9,10000)\n",
    "\n",
    "a0, b0 = 0, 100000\n",
    "#a0, b0 = -100000, 0\n",
    "mean, std = 1, 1\n",
    "a, b = (a0 - mean) / std, (b0 - mean) / std\n",
    "\n",
    "r = truncnorm.rvs(a, b, loc=mean, scale=std, size=10000)\n",
    "plt.hist(r, bins= 80, density=True)\n",
    "\n",
    "plt.plot(xx, truncnorm.pdf(xx, a, b, loc=mean, scale=std), color='r')\n",
    "plt.plot(xx, truncnorm.pdf(xx, -b0, b0, loc=mean, scale=std), color='y')\n",
    "\n",
    "plt.show()"
   ]
  },
  {
   "cell_type": "markdown",
   "metadata": {},
   "source": [
    "**Implementation of the gibbs sampling algorithm** with 5000 draws after deleting the first 500.<br>\n",
    "The algorithm output is the sequence of $\\beta$ and the sequence of $\\hat{\\beta}_z$."
   ]
  },
  {
   "cell_type": "code",
   "execution_count": 18,
   "metadata": {},
   "outputs": [],
   "source": [
    "def gibbs_sampler(N=5000):\n",
    "    beta_list = []\n",
    "    betaZ_list = []\n",
    "    z_list = []\n",
    "    \n",
    "    # Initialisation of the Markov chain\n",
    "    beta_0 = np.random.multivariate_normal(a, A_1) # vecteur p*1\n",
    "    beta_list.append(beta_0)\n",
    "    z_0 = np.random.multivariate_normal(X@beta_0, np.eye(n)) # vecteur des zi -> shape n*1 \n",
    "    z_list.append(z_0)\n",
    "    \n",
    "    # Propagation of the Markov chain\n",
    "    for i in range(N+499):\n",
    "        beta_new, betaZ_new = post_beta(z_list[-1])\n",
    "        beta_list.append(beta_new)\n",
    "        betaZ_list.append(betaZ_new)\n",
    "        z_new = post_z(beta_list[-1])\n",
    "        z_list.append(z_new)\n",
    "\n",
    "    return np.array(beta_list[500:]), np.array(betaZ_list[500:])"
   ]
  },
  {
   "cell_type": "markdown",
   "metadata": {},
   "source": [
    "### Loading data"
   ]
  },
  {
   "cell_type": "code",
   "execution_count": 19,
   "metadata": {},
   "outputs": [
    {
     "data": {
      "text/plain": [
       "((53, 5), (53,))"
      ]
     },
     "execution_count": 19,
     "metadata": {},
     "output_type": "execute_result"
    }
   ],
   "source": [
    "y = y_nodal\n",
    "\n",
    "X = X_nodal.values # -> contruire X avec les transfo n log des variables ? \n",
    "n, p = X.shape # nb d'individus, nb de var\n",
    "\n",
    "X.shape, y.shape"
   ]
  },
  {
   "cell_type": "markdown",
   "metadata": {},
   "source": [
    "**Modify the vector X depending on the model chosen**"
   ]
  },
  {
   "cell_type": "markdown",
   "metadata": {},
   "source": [
    "For model 9: y ~ C + log(x2) + x3 + x4 + x5 <br>\n",
    "For model 8: y ~ C + log(x2) + x3 + x4"
   ]
  },
  {
   "cell_type": "code",
   "execution_count": 20,
   "metadata": {},
   "outputs": [],
   "source": [
    "# Model 8\n",
    "X[:,1] = np.log(X[:,1]) #x2 <- log(x2)\n",
    "X[:,0] = 1 #x1 remplacé par la constante C\n",
    "X = X[:,0:4] #remove x5"
   ]
  },
  {
   "cell_type": "markdown",
   "metadata": {},
   "source": [
    "Update p the number of variable"
   ]
  },
  {
   "cell_type": "code",
   "execution_count": 21,
   "metadata": {},
   "outputs": [
    {
     "name": "stdout",
     "output_type": "stream",
     "text": [
      "Number of variable selected = 4\n"
     ]
    }
   ],
   "source": [
    "p = X.shape[1] # nb de var\n",
    "print(\"Number of variable selected =\",p)"
   ]
  },
  {
   "cell_type": "markdown",
   "metadata": {},
   "source": [
    "Define and compute global variables"
   ]
  },
  {
   "cell_type": "code",
   "execution_count": 22,
   "metadata": {},
   "outputs": [
    {
     "data": {
      "text/plain": [
       "((4,), (4, 4))"
      ]
     },
     "execution_count": 22,
     "metadata": {},
     "output_type": "execute_result"
    }
   ],
   "source": [
    "a = np.array([0.75]*p)\n",
    "\n",
    "A_1 = np.diag([25]*p)\n",
    "A = np.linalg.inv(A_1)\n",
    "B = np.linalg.inv(A + X.T@X) # global variable as well\n",
    "\n",
    "a.shape, A.shape"
   ]
  },
  {
   "cell_type": "markdown",
   "metadata": {},
   "source": [
    "### Marginal likelihood estimation"
   ]
  },
  {
   "cell_type": "markdown",
   "metadata": {},
   "source": [
    "__Compute the estimate $\\beta^*$__"
   ]
  },
  {
   "cell_type": "code",
   "execution_count": 23,
   "metadata": {},
   "outputs": [
    {
     "name": "stdout",
     "output_type": "stream",
     "text": [
      "CPU times: user 1min 44s, sys: 8.33 s, total: 1min 52s\n",
      "Wall time: 1min 6s\n"
     ]
    }
   ],
   "source": [
    "%%time\n",
    "beta_g, betaZ_g = gibbs_sampler()"
   ]
  },
  {
   "cell_type": "code",
   "execution_count": 24,
   "metadata": {},
   "outputs": [
    {
     "data": {
      "text/plain": [
       "5000"
      ]
     },
     "execution_count": 24,
     "metadata": {},
     "output_type": "execute_result"
    }
   ],
   "source": [
    "beta_g.shape[0]"
   ]
  },
  {
   "cell_type": "code",
   "execution_count": 25,
   "metadata": {},
   "outputs": [
    {
     "data": {
      "text/plain": [
       "array([-0.69968681,  1.46524329,  1.2661161 ,  1.07469158])"
      ]
     },
     "execution_count": 25,
     "metadata": {},
     "output_type": "execute_result"
    }
   ],
   "source": [
    "beta_star = 1/beta_g.shape[0] * np.sum(beta_g, axis=0)\n",
    "beta_star"
   ]
  },
  {
   "cell_type": "markdown",
   "metadata": {},
   "source": [
    "__Evaluate the log likelihood of the model chosen for $\\beta^*$__"
   ]
  },
  {
   "cell_type": "code",
   "execution_count": 29,
   "metadata": {},
   "outputs": [],
   "source": [
    "def likelihood(beta):\n",
    "    p=1\n",
    "    for i in range(0,53):\n",
    "        xi = X[i,:]\n",
    "        if y[i]==1 :\n",
    "            p=p*norm.cdf(xi@beta, loc=0, scale=1)\n",
    "        elif y[i]==0 :\n",
    "            p=p*(1-norm.cdf(xi@beta, loc=0, scale=1))\n",
    "    return(p)"
   ]
  },
  {
   "cell_type": "code",
   "execution_count": 30,
   "metadata": {},
   "outputs": [
    {
     "data": {
      "text/plain": [
       "-24.437859648893166"
      ]
     },
     "execution_count": 30,
     "metadata": {},
     "output_type": "execute_result"
    }
   ],
   "source": [
    "r = likelihood(beta_star)\n",
    "np.log(r)"
   ]
  },
  {
   "cell_type": "markdown",
   "metadata": {},
   "source": [
    "__Evaluate the prior in $\\beta^*$__"
   ]
  },
  {
   "cell_type": "code",
   "execution_count": 31,
   "metadata": {},
   "outputs": [
    {
     "data": {
      "text/plain": [
       "-10.173205087534313"
      ]
     },
     "execution_count": 31,
     "metadata": {},
     "output_type": "execute_result"
    }
   ],
   "source": [
    "s = multivariate_normal.pdf(beta_star, mean=a, cov=A_1)\n",
    "np.log(s)"
   ]
  },
  {
   "cell_type": "markdown",
   "metadata": {},
   "source": [
    "__Estimate the posterior ordinate also in $\\beta^*$__"
   ]
  },
  {
   "cell_type": "code",
   "execution_count": 32,
   "metadata": {},
   "outputs": [],
   "source": [
    "def estim_post_ordinate(beta):\n",
    "    s=0\n",
    "    for i in range(0,len(beta_g)-1):\n",
    "        s+= multivariate_normal.pdf(beta, mean=betaZ_g[i], cov=B)\n",
    "    s=s/len(beta_g)\n",
    "    return(s)"
   ]
  },
  {
   "cell_type": "code",
   "execution_count": 33,
   "metadata": {},
   "outputs": [
    {
     "data": {
      "text/plain": [
       "-0.08018388262828686"
      ]
     },
     "execution_count": 33,
     "metadata": {},
     "output_type": "execute_result"
    }
   ],
   "source": [
    "t = estim_post_ordinate(beta_star)\n",
    "np.log(t)"
   ]
  },
  {
   "cell_type": "markdown",
   "metadata": {},
   "source": [
    "Finaly, **compute the marginal likelihood of model m(y)**"
   ]
  },
  {
   "cell_type": "code",
   "execution_count": 34,
   "metadata": {},
   "outputs": [
    {
     "name": "stdout",
     "output_type": "stream",
     "text": [
      "The log of the marginal likelihood of the model is -34.531\n"
     ]
    }
   ],
   "source": [
    "m = np.log(r) + np.log(s) - np.log(t)\n",
    "print(\"The log of the marginal likelihood of the model is %.3f\" %m)"
   ]
  }
 ],
 "metadata": {
  "kernelspec": {
   "display_name": "Python 3",
   "language": "python",
   "name": "python3"
  },
  "language_info": {
   "codemirror_mode": {
    "name": "ipython",
    "version": 3
   },
   "file_extension": ".py",
   "mimetype": "text/x-python",
   "name": "python",
   "nbconvert_exporter": "python",
   "pygments_lexer": "ipython3",
   "version": "3.7.3"
  }
 },
 "nbformat": 4,
 "nbformat_minor": 4
}
