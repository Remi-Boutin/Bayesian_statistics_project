{
 "cells": [
  {
   "cell_type": "code",
   "execution_count": 142,
   "metadata": {},
   "outputs": [
    {
     "name": "stdout",
     "output_type": "stream",
     "text": [
      "Once deleted, variables cannot be recovered. Proceed (y/[n])? y\n"
     ]
    }
   ],
   "source": [
    "%reset"
   ]
  },
  {
   "cell_type": "code",
   "execution_count": 1,
   "metadata": {},
   "outputs": [],
   "source": [
    "import numpy as np \n",
    "import pandas as pd\n",
    "import matplotlib.pyplot as plt\n",
    "from multiprocessing import Pool\n",
    "#Fonction permettant d'échantilloner selon les lois\n",
    "from numpy.random import dirichlet, normal, gamma\n",
    "from scipy.stats import multivariate_normal as mult_norm, norm, invgamma, dirichlet as dirichlet_scipy\n",
    "\n",
    "from functools import partial\n",
    "from progressbar import ProgressBar\n",
    "import time\n",
    "%matplotlib inline"
   ]
  },
  {
   "cell_type": "code",
   "execution_count": 2,
   "metadata": {},
   "outputs": [
    {
     "data": {
      "image/png": "[encoded data removed]",
      "text/plain": [
       "<Figure size 432x288 with 1 Axes>"
      ]
     },
     "metadata": {
      "needs_background": "light"
     },
     "output_type": "display_data"
    }
   ],
   "source": [
    "data = pd.read_csv('galaxy.csv', index_col=0)\n",
    "y= data.iloc[:,0].values/1000\n",
    "plt.plot(data.iloc[:,0],'b+', label=\"Velocity\")\n",
    "plt.title(\"Velocity (km/sec) for Galaxies in the Corona Borealis Region\")\n",
    "plt.show()"
   ]
  },
  {
   "cell_type": "markdown",
   "metadata": {},
   "source": [
    "### Le but de cette étude est de trouver le nombre de clusters définissant la distribution des vitesses des étoiles dans la région de la [couronne boréale](https://fr.wikipedia.org/wiki/Couronne_bor%C3%A9ale)"
   ]
  },
  {
   "cell_type": "markdown",
   "metadata": {},
   "source": [
    "Cet article propose d'estimer la distribution marginale $p(y)$ de la vraisemblance $L(y ;\\theta)$. Pour celà, des estimateurs basés sur des échantillons obtenus par un échantilloneur de Gibbs sont utilisés. \n",
    "Dans notre exemple, on suppose que les données sont distribuées selon un modèle de mélange avec k groupes. Le modèle est défini comme suit. \n",
    "Priors du modèle\n",
    "$$\n",
    "\\mu_j \\sim \\mathcal{N}(\\mu_0 , phi)\\\\\n",
    "\\sigma_j \\sim \\mathcal{IG}(\\frac{v_0}{2}, \\frac{\\delta_0}{2})\\\\\n",
    "q \\sim Dirichlet(\\alpha_1, ..., \\alpha_d)\n",
    "$$\n",
    "où d = nombre de clusters considérés (2 ou 3)\n",
    "\n",
    "$\\mu_0 = 20, \\ A^{-1} = 100, \\ v_0 = 6, \\ \\delta_0 = 40,\\ \\alpha_j = 1$"
   ]
  },
  {
   "cell_type": "code",
   "execution_count": 3,
   "metadata": {},
   "outputs": [],
   "source": [
    "def normal_update(n_clust, clust_mean, sigma, sigma0=100,mu0=20,v0=6, delta0=40):   \n",
    "    ### Mean & var posterior de mu\n",
    "    mu_mean_up = np.divide(n_clust*clust_mean* sigma0 + mu0 * sigma , sigma0 *n_clust + sigma )\n",
    "    mu_var_up = np.divide(sigma0  * sigma, sigma0 * n_clust + sigma)\n",
    "\n",
    "    return mu_mean_up, mu_var_up\n",
    "\n",
    "def dirichlet_update(alpha0, n_clust):\n",
    "    return alpha0 + n_clust\n",
    "\n",
    "def InvGamma_update(n_clust, delta, v0=6, delta0= 40):\n",
    "    ### Paramètre de la loi posterieure de sigma\n",
    "    v_up = v0 +n_clust\n",
    "    delta_up = delta + delta0\n",
    "    return v_up, delta_up\n",
    "\n",
    "def z_update(q, mu, sigma, y, nb_clust=3):\n",
    "    #retourne les probabilités q[j] d'être dans le cluster j\n",
    "    return np.array([ q[i]*mult_norm.pdf(x=y,mean=mu[i],cov=sigma[i]) for i in range(nb_clust)]).T\n",
    "                  \n"
   ]
  },
  {
   "cell_type": "code",
   "execution_count": 4,
   "metadata": {},
   "outputs": [],
   "source": [
    "#Initalisation des paramètres\n",
    "nb_clust = 3\n",
    "z=np.random.randint(0,nb_clust,size=(1,y.shape[0]))\n",
    "\n",
    "\n",
    "clust ,n_clust = np.unique(z[-1], return_counts=True)\n",
    "\n",
    "if(clust.shape[0] < nb_clust):\n",
    "    print(\"ERROR - PAS ASSEZ DE CLUSTEURS LORS DE L'INITALISATION ALEATOIRE\")\n",
    "    \n",
    "mu0= 20\n",
    "A0 = 100\n",
    "v0 = 6\n",
    "delta0 = 40\n",
    "alpha0 = np.ones(nb_clust)\n",
    "sigma0 = 1\n",
    "\n",
    "q0 = np.ones(nb_clust)\n",
    "\n",
    "#Calcul des quantités nécessaires pour la mise à jour des paramètres : moyenne intra clust et mse intra clust\n",
    "delta, clust_mean= [],[]\n",
    "for i in range(nb_clust):\n",
    "    delta.append(np.sum(np.square(y[z[-1]==i]-mu0)))\n",
    "    clust_mean.append(np.mean(y[z[-1]==i]))\n",
    "delta, clust_mean = np.array(delta), np.array(clust_mean)\n",
    "\n",
    "#Mise à jour de la moyenne mu\n",
    "mu_mean_up, mu_var_up = normal_update(n_clust, clust_mean, sigma=sigma0)\n",
    "mu_sample = normal(loc = mu_mean_up, scale = np.sqrt(mu_var_up))\n",
    "#y_mse = [np.sum(np.square( y[z[-1]==i] - mu_mean_up[i] )) for i in range(nb_clust)]\n",
    "\n",
    "#Mise à jour de la variance sigma\n",
    "v_up, delta_up = InvGamma_update(n_clust, delta)\n",
    "sigma_sample = 1/gamma(v_up/2, 2/delta_up) # Est-ce correcte ou faut-il inverser le deuxième paramètre ? \n",
    "\n",
    "### Mise à jour de la proba q\n",
    "alpha_up = dirichlet_update(alpha0 , n_clust)\n",
    "q = dirichlet(alpha_up)\n",
    "\n",
    "#Mise à jour des probas de chaque cluster\n",
    "q_up = z_update(q, mu_sample, sigma_sample,y)\n",
    "q_up = q_up/q_up.sum(axis=1, keepdims=True)\n",
    "z_sample= np.array([np.random.choice(range(nb_clust), p=q_up[i]) for i in range(y.shape[0])])\n",
    "\n",
    "mu_sample = mu_sample.reshape(1, mu_sample.shape[0])\n",
    "sigma_sample = sigma_sample.reshape(1, sigma_sample.shape[0])\n",
    "z_sample = z_sample.reshape(1, z_sample.shape[0])"
   ]
  },
  {
   "cell_type": "code",
   "execution_count": 5,
   "metadata": {},
   "outputs": [
    {
     "name": "stderr",
     "output_type": "stream",
     "text": [
      "100% (2000 of 2000) |####################| Elapsed Time: 0:00:08 Time:  0:00:08\n"
     ]
    }
   ],
   "source": [
    "n_iter = 15000\n",
    "burn_in = 1000\n",
    "bar = ProgressBar(maxval=n_iter)\n",
    "bar.start()\n",
    "for k in range(n_iter):\n",
    "    \n",
    "    #Calcul des quantités nécessaires pour la mise à jour des paramètres : moyenne intra clust et mse intra clust\n",
    "    n_clust = np.array([(z_sample[-1]==k).sum() for k in range(nb_clust)])\n",
    "    delta, clust_mean= [],[]\n",
    "    for i in range(nb_clust):\n",
    "        delta.append(np.sum(np.square(y[z_sample[-1]==i]-mu_sample[-1][i])))\n",
    "        clust_mean.append(np.mean(y[z_sample[-1]==i]))\n",
    "    delta, clust_mean = np.nan_to_num(delta), np.nan_to_num(clust_mean)\n",
    "    \n",
    "    #Mise à jour de la moyenne mu\n",
    "    mu_mean_up, mu_var_up = normal_update(n_clust, clust_mean, sigma=sigma_sample[-1][i])\n",
    "    mu_sample = np.vstack((mu_sample, normal(loc = mu_mean_up, scale = mu_var_up)))\n",
    "    #y_mse = [np.sum(np.square( y[z[-1]==i] - mu_mean_up[i] )) for i in range(nb_clust)]\n",
    "\n",
    "    #Mise à jour de la variance sigma\n",
    "    v_up, delta_up = InvGamma_update(n_clust, delta)\n",
    "    #sigma_sample = np.vstack((sigma_sample, 1/gamma(v_up/2, 2/delta_up))) # Est-ce correcte ou faut-il inverser le deuxième paramètre ? \n",
    "    sigma_sample = np.vstack((sigma_sample, invgamma.rvs(v_up/2, scale= delta_up/2))) # Est-ce correcte ou faut-il inverser le deuxième paramètre ? \n",
    "\n",
    "    ### Mise à jour de la proba q\n",
    "    alpha_up = dirichlet_update(alpha0 , n_clust)\n",
    "    q_up = np.vstack((q_up,dirichlet(alpha_up) ))\n",
    "    \n",
    "    #Mise à jour des probas de chaque cluster\n",
    "    w = z_update(q_up[-1], mu_sample[-1], sigma_sample[-1],y)\n",
    "    w = np.nan_to_num(w)\n",
    "    w = np.divide(w,w.sum(axis=1, keepdims=True))\n",
    "    z_sample = np.vstack((z_sample,np.array([np.random.choice(range(nb_clust), p=w[i]) for i in range(y.shape[0])])))\n",
    "    bar.update(k)\n",
    "bar.finish()"
   ]
  },
  {
   "cell_type": "code",
   "execution_count": 6,
   "metadata": {},
   "outputs": [
    {
     "data": {
      "image/png": "[encoded data removed]",
      "text/plain": [
       "<Figure size 432x288 with 1 Axes>"
      ]
     },
     "metadata": {
      "needs_background": "light"
     },
     "output_type": "display_data"
    }
   ],
   "source": [
    "plt.plot(mu_sample)\n",
    "plt.title('Valeurs de mu, moyenne de chaque cluster')\n",
    "plt.xlabel('Evolution de la chaîne dans le temps')\n",
    "plt.ylabel('Valeur de mu')\n",
    "plt.show()"
   ]
  },
  {
   "cell_type": "code",
   "execution_count": 11,
   "metadata": {},
   "outputs": [
    {
     "data": {
      "image/png": "[encoded data removed]",
      "text/plain": [
       "<Figure size 432x288 with 1 Axes>"
      ]
     },
     "metadata": {
      "needs_background": "light"
     },
     "output_type": "display_data"
    }
   ],
   "source": [
    "plt.plot(sigma_sample[:,1])\n",
    "plt.title(\"Valeurs de sigma\")\n",
    "plt.xlabel('time')\n",
    "plt.ylabel('Valeur de sigma')\n",
    "plt.show()"
   ]
  },
  {
   "cell_type": "markdown",
   "metadata": {},
   "source": [
    "### Calcul du premier bloc : \n",
    "\n",
    "$$\n",
    "    \\text{Estimator} = \\log( L( \\mu^*, \\sigma^*, q^*; y)) + \\log( \\pi( \\mu^*, \\sigma^*, q^* )) - \\pi( \\mu^* \\mid y)\n",
    "$$"
   ]
  },
  {
   "cell_type": "code",
   "execution_count": 12,
   "metadata": {},
   "outputs": [],
   "source": [
    "def Log_likelihood(q, mu, sigma):\n",
    "    '''\n",
    "    Prend un seul y, calcul la densité pour chaque cluster et pondère par la proba du cluster\n",
    "    #INPUT : q = dimension 3, proba de chaque cluster\n",
    "    #       mu = dimension 3, moyenne de chaque cluster\n",
    "    #    sigma = dimension 3, var de chaque cluster\n",
    "    '''\n",
    "    return np.log(list(map(lambda i: np.exp(np.log(q)+np.log(list(map(norm.pdf,y[i]*np.ones(3), mu, np.sqrt(sigma))))).sum(), range(y.shape[0])))).sum()\n",
    "\n",
    "def Log_likelihood_wrapper(i):\n",
    "    return Log_likelihood(q=q_up[i], mu=mu_sample[i], sigma =sigma_sample[i])\n",
    "\n",
    "#On utilise le maximum de vraisemblance, même si ce n'est pas nécessaire,\n",
    "#celà permet des calculs plus stable, c.f article\n",
    "t = np.argmax( np.array(list(map(Log_likelihood_wrapper,range(burn_in, n_iter) ))) ) + burn_in\n",
    "\n",
    "'''\n",
    "Vectorized version\n",
    "f=np.vectorize(Log_likelihood_wrapper)\n",
    "t2 = np.argmax(f(range(2000)))\n",
    "'''\n",
    "\n",
    "### Meilleure vraisemblance de nos données \n",
    "print('Valeur de la log vraisemblance max %f :' %Log_likelihood_wrapper(t))\n",
    "\n",
    "mu_star, sigma_star, q_star = mu_sample[t], sigma_sample[t], q_up[t]"
   ]
  },
  {
   "cell_type": "code",
   "execution_count": 39,
   "metadata": {},
   "outputs": [],
   "source": [
    "def log_prior(mu,sigma,q):\n",
    "    \n",
    "    #Les paramètres sont à priori indépendants donc :\n",
    "    result = dirichlet_scipy.logpdf(q,alpha=alpha0)\n",
    "    + norm.logpdf(mu, loc=mu0, scale=np.sqrt(A0) )\n",
    "    + invgamma.logpdf(sigma, v0/2, delta0/2 )\n",
    "    \n",
    "    return result\n",
    "\n",
    "def log_posterior_mu(mu,sigma,z):\n",
    "    n_clust, clust_mean = [],[]\n",
    "    for i in range(nb_clust):\n",
    "        n_clust.append( (z==i).sum()) \n",
    "        clust_mean.append(np.mean(y[z==i]))\n",
    "    n_clust, clust_mean= np.array(n_clust), np.array(clust_mean)\n",
    "    return np.exp(np.sum( norm.logpdf(x=mu,loc= np.divide(n_clust*clust_mean *sigma0 + mu0*sigma,n_clust*sigma0 + sigma), \n",
    "                               scale=np.divide(sigma0*sigma,n_clust* sigma0 + sigma))))\n",
    "\n",
    "def log_posterior_mu_wrapper(i):\n",
    "    return log_posterior_mu(mu_star, sigma_sample[i],z_sample[i])\n",
    "\n",
    "                            \n",
    "log_post_estimate_mu = np.log(np.mean(list(map(log_posterior_mu_wrapper, range(burn_in, n_iter)))))\n",
    "    \n",
    "    \n",
    "\n",
    "\n",
    "estimator_first_step = Log_likelihood_wrapper(t) + log_prior(mu_star,sigma_star,q_star)"
   ]
  },
  {
   "cell_type": "code",
   "execution_count": 42,
   "metadata": {},
   "outputs": [
    {
     "data": {
      "text/plain": [
       "-209.3939626826953"
      ]
     },
     "execution_count": 42,
     "metadata": {},
     "output_type": "execute_result"
    }
   ],
   "source": [
    "estimator_first_step"
   ]
  },
  {
   "cell_type": "code",
   "execution_count": 41,
   "metadata": {},
   "outputs": [
    {
     "data": {
      "text/plain": [
       "-85.75721347892289"
      ]
     },
     "execution_count": 41,
     "metadata": {},
     "output_type": "execute_result"
    }
   ],
   "source": [
    "log_post_estimate_mu"
   ]
  },
  {
   "cell_type": "markdown",
   "metadata": {},
   "source": [
    "### Deuxième partie \n",
    "Estimation de :\n",
    "$\n",
    "\\pi( \\sigma^* \\mid \\mu^* , y ) \n",
    "$"
   ]
  },
  {
   "cell_type": "code",
   "execution_count": 54,
   "metadata": {},
   "outputs": [
    {
     "name": "stderr",
     "output_type": "stream",
     "text": [
      "100% (2000 of 2000) |####################| Elapsed Time: 0:00:05 Time:  0:00:05\n"
     ]
    }
   ],
   "source": [
    "#Initialisation\n",
    "z_sample = np.random.randint(0,nb_clust,size=(1,y.shape[0]))\n",
    "q_up,sigma_sample=np.ones((1,3)), sigma0 * np.ones((1,3))\n",
    "\n",
    "bar = ProgressBar(maxval=n_iter)\n",
    "bar.start()\n",
    "for i in range(n_iter):\n",
    "    n_clust,delta=[],[]\n",
    "    for k in range(nb_clust):\n",
    "        n_clust.append( (z_sample[-1]==k).sum() )\n",
    "        delta.append(np.sum(np.square(y[z_sample[-1]==k]-mu_star[k])))\n",
    "    n_clust, delta=np.array(n_clust), np.array(delta)\n",
    "    \n",
    "    #Mise à jour des probas q\n",
    "    alpha_up = dirichlet_update(alpha0, n_clust)\n",
    "    q_up = np.vstack( (q_up, dirichlet(alpha = alpha_up)))\n",
    "    \n",
    "    #Mise à jour de la variance sigma\n",
    "    v_up, delta_up = InvGamma_update(n_clust, delta)\n",
    "    sigma_sample = np.vstack((sigma_sample, invgamma.rvs(v_up/2, scale= delta_up/2))) \n",
    "    \n",
    "    #Mise à jour de z\n",
    "    w = z_update(q_up[-1], mu_star, sigma_sample[-1],y)\n",
    "    w = np.nan_to_num(w)\n",
    "    w = np.divide(w,w.sum(axis=1, keepdims=True))\n",
    "    z_sample = np.vstack((z_sample,np.array([np.random.choice(range(nb_clust), p=w[l]) for l in range(y.shape[0])])))\n",
    "    bar.update(i)\n",
    "bar.finish()\n",
    "    \n",
    "    "
   ]
  },
  {
   "cell_type": "code",
   "execution_count": 64,
   "metadata": {},
   "outputs": [
    {
     "data": {
      "text/plain": [
       "[<matplotlib.lines.Line2D at 0x25a15872248>]"
      ]
     },
     "execution_count": 64,
     "metadata": {},
     "output_type": "execute_result"
    },
    {
     "data": {
      "image/png": "[encoded data removed]",
      "text/plain": [
       "<Figure size 432x288 with 1 Axes>"
      ]
     },
     "metadata": {
      "needs_background": "light"
     },
     "output_type": "display_data"
    }
   ],
   "source": [
    "plt.plot(sigma_sample[:,1])"
   ]
  },
  {
   "cell_type": "markdown",
   "metadata": {},
   "source": [
    "### Calcul de l'estimateur suivant la méthode du papier "
   ]
  },
  {
   "cell_type": "code",
   "execution_count": 68,
   "metadata": {},
   "outputs": [],
   "source": [
    "def log_post_sigma(mu,sigma, z):\n",
    "    n_clust = np.array([(z_sample[-1]==k).sum() for k in range(nb_clust)])\n",
    "    delta = np.array([np.sum(np.square(y[z_sample[-1]==k]-mu[k])) for k in range(nb_clust)])\n",
    "    return np.exp(np.sum(invgamma.logpdf(sigma, a=(v0 + n_clust)/2 , scale= (delta0+delta)/2 )))\n",
    "\n",
    "def log_post_sigma_wrapper(i):\n",
    "    return log_post_sigma(mu_star, sigma_star, z_sample[i])\n",
    "\n",
    "estim_2 = np.log(np.mean(list(map(log_post_sigma_wrapper, range(burn_in, n_iter)))))"
   ]
  },
  {
   "cell_type": "code",
   "execution_count": 69,
   "metadata": {},
   "outputs": [
    {
     "data": {
      "text/plain": [
       "-10.203008779158834"
      ]
     },
     "execution_count": 69,
     "metadata": {},
     "output_type": "execute_result"
    }
   ],
   "source": [
    "estim_2"
   ]
  },
  {
   "cell_type": "markdown",
   "metadata": {},
   "source": [
    "### Calcul de l'estimateur 3 suivant la méthode du papier"
   ]
  },
  {
   "cell_type": "code",
   "execution_count": 71,
   "metadata": {},
   "outputs": [
    {
     "name": "stderr",
     "output_type": "stream",
     "text": [
      "100% (2000 of 2000) |####################| Elapsed Time: 0:00:05 Time:  0:00:05\n"
     ]
    }
   ],
   "source": [
    "#Initialisation\n",
    "z_sample = np.random.randint(0,nb_clust,size=(1,y.shape[0]))\n",
    "q_up = np.ones((1,3))\n",
    "\n",
    "bar = ProgressBar(maxval=n_iter)\n",
    "bar.start()\n",
    "for i in range(n_iter):\n",
    "    n_clust = np.array([(z_sample[-1]==k).sum() for k in range(nb_clust)])\n",
    "\n",
    "    #Mise à jour des probas q\n",
    "    alpha_up = dirichlet_update(alpha0, n_clust)\n",
    "    q_up = np.vstack( (q_up, dirichlet(alpha = alpha_up)))\n",
    "    \n",
    "    #Mise à jour de z\n",
    "    w = z_update(q_up[-1], mu_star, sigma_star,y)\n",
    "    w = np.nan_to_num(w)\n",
    "    w = np.divide(w,w.sum(axis=1, keepdims=True))\n",
    "    z_sample = np.vstack((z_sample,np.array([np.random.choice(range(nb_clust), p=w[l]) for l in range(y.shape[0])])))\n",
    "    bar.update(i)\n",
    "bar.finish()\n",
    "    \n",
    "    "
   ]
  },
  {
   "cell_type": "code",
   "execution_count": 73,
   "metadata": {},
   "outputs": [],
   "source": [
    "### Calculer de la dernière log densité postérieur conditionnelle aux autre paramètre\n",
    "\n",
    "def log_post_q(z):\n",
    "    n_clust = np.array([(z==k).sum() for k in range(nb_clust)])\n",
    "    return dirichlet_scipy.logpdf(q_star, alpha=alpha0 + n_clust)\n",
    "def log_post_q_wrapper(i):\n",
    "    return log_post_q[z_sample[i]]"
   ]
  },
  {
   "cell_type": "code",
   "execution_count": 74,
   "metadata": {},
   "outputs": [],
   "source": [
    "estim3 = np.log(np.mean(list(map(log_post_sigma_wrapper,range(burn_in, n_iter)))))"
   ]
  },
  {
   "cell_type": "code",
   "execution_count": 75,
   "metadata": {},
   "outputs": [
    {
     "data": {
      "text/plain": [
       "-8.83123657328715"
      ]
     },
     "execution_count": 75,
     "metadata": {},
     "output_type": "execute_result"
    }
   ],
   "source": [
    "estim_3"
   ]
  },
  {
   "cell_type": "code",
   "execution_count": 76,
   "metadata": {},
   "outputs": [
    {
     "data": {
      "text/plain": [
       "-104.60250385132642"
      ]
     },
     "execution_count": 76,
     "metadata": {},
     "output_type": "execute_result"
    }
   ],
   "source": [
    "estimator_first_step - log_post_estimate_mu - estim_2 - estim3"
   ]
  }
 ],
 "metadata": {
  "kernelspec": {
   "display_name": "ML_env",
   "language": "python",
   "name": "ml"
  },
  "language_info": {
   "codemirror_mode": {
    "name": "ipython",
    "version": 3
   },
   "file_extension": ".py",
   "mimetype": "text/x-python",
   "name": "python",
   "nbconvert_exporter": "python",
   "pygments_lexer": "ipython3",
   "version": "3.7.6"
  }
 },
 "nbformat": 4,
 "nbformat_minor": 2
}
